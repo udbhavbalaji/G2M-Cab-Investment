{
 "cells": [
  {
   "cell_type": "markdown",
   "metadata": {},
   "source": [
    "# Exploratory Data Analysis   \n",
    "__The following exploration is done to analyze which of the 2 cab companies, Yellow Company or Pink Company, is the better choice to invest in.__     \n",
    "\n",
    "The following features are present in the dataset:    \n",
    "1. txnID (Transaction ID): Unique id assigned to each of the rides that were done by either of the companies     \n",
    "2. custID (Customer ID): Unique id assigned to each customer. Note that values in this field can be repeated as the same customer could have taken multiple rides with both the companies   \n",
    "3. date (Date of Ride): The day of each month that the ride took place on   \n",
    "4. month (Month of Ride): The month in which the ride took place   \n",
    "5. year (Year of Ride): The year in which the ride took place    \n",
    "6. day_name (Day Name): Name of the day on which the ride took place    \n",
    "7. distance (Distance): The length/distance of each ride   \n",
    "8. city (City): City in which the ride took place   \n",
    "9. state (State): State of the city in which the ride took place    \n",
    "10. cost (Cost): Cost incurred by each company for each ride   \n",
    "11. price (Price): Price charged by each company for each ride  \n",
    "12. profit (Profit): Profit earned by the company on each ride (Price-Cost)   \n",
    "13. population (Population): Population of the city in which the ride took place   \n",
    "14. user (User): Number of cab users that the city has    \n",
    "15. pay_mode (Mode of Payment): The mode of payment that the customer used to pay for the ride   \n",
    "16. gender (Gender): The gender of the customer    \n",
    "17. age (Age): Age of the customer   \n",
    "18. monthly_income (Monthly Income): Monthly income of the customer in US Dollars     19.\n",
    "19. company (Company): Which company undertook the ride   \n",
    "20. Holiday (Holiday): The name of the holiday on the date of the ride    "
   ]
  },
  {
   "cell_type": "code",
   "execution_count": null,
   "metadata": {},
   "outputs": [],
   "source": [
    "import pandas as pd\n",
    "import numpy as np\n",
    "import matplotlib.pyplot as plt\n",
    "import seaborn as sns\n",
    "\n",
    "%matplotlib inline"
   ]
  },
  {
   "cell_type": "code",
   "execution_count": null,
   "metadata": {},
   "outputs": [],
   "source": [
    "df = pd.read_csv('Datasets/Master_Data.csv')\n",
    "df.head()"
   ]
  },
  {
   "cell_type": "markdown",
   "metadata": {},
   "source": [
    "### Hypotheses:   \n",
    "1. Price has increased over the years   \n",
    "2. Places with a higher population have higher prices and costs   \n",
    "3. Profitability increases with larger duration    \n",
    "4. Profit increases on Holidays    \n",
    "5. People with higher income travel longer distances   \n",
    "6. People in this age group travel more (22-40), due to absence of private modes of transport  "
   ]
  },
  {
   "cell_type": "code",
   "execution_count": null,
   "metadata": {},
   "outputs": [],
   "source": [
    "df = df.set_index('txnID')\n",
    "df.describe()"
   ]
  },
  {
   "cell_type": "code",
   "execution_count": null,
   "metadata": {},
   "outputs": [],
   "source": [
    "df.info()"
   ]
  },
  {
   "cell_type": "markdown",
   "metadata": {},
   "source": [
    "Here, we see that the Holiday feature has only 10906 not-null rows. While this might seem to be bad, it is useful information as it shows us that the ride took place on a day that wasn't a Federal US Holiday."
   ]
  },
  {
   "cell_type": "code",
   "execution_count": null,
   "metadata": {},
   "outputs": [],
   "source": [
    "corr = df.corr()\n",
    "corr"
   ]
  },
  {
   "cell_type": "code",
   "execution_count": null,
   "metadata": {},
   "outputs": [],
   "source": [
    "def get_grouped_df(df, indices, val, mean=False):\n",
    "    if mean:\n",
    "        grouped = pd.DataFrame(df.groupby(indices)[val].mean())\n",
    "    else:\n",
    "        grouped = pd.DataFrame(df.groupby(indices)[val].value_counts())\n",
    "    df_list = []\n",
    "    for index, row in grouped.iterrows():\n",
    "        df_list.append([index[0], index[1], row[val]])\n",
    "    group_df = pd.DataFrame(df_list)\n",
    "    group_df.columns = indices+[val]\n",
    "    return group_df"
   ]
  },
  {
   "cell_type": "code",
   "execution_count": null,
   "metadata": {},
   "outputs": [],
   "source": [
    "group_df = get_grouped_df(df, ['company','year'], 'profit', mean=False)"
   ]
  },
  {
   "cell_type": "code",
   "execution_count": null,
   "metadata": {},
   "outputs": [],
   "source": [
    "fig = plt.figure(figsize=(20,5))\n",
    "sns.set_theme(style='whitegrid')\n",
    "sns.countplot(y='year', hue='company', data=group_df).set_title('Number of Rides by each Company from 2016-2018')\n",
    "plt.legend(title='')\n",
    "plt.xlabel('Number of Rides')\n",
    "plt.ylabel('')\n",
    "plt.show()"
   ]
  },
  {
   "cell_type": "code",
   "execution_count": null,
   "metadata": {},
   "outputs": [],
   "source": [
    "group_df = get_grouped_df(df, ['company','year'], 'profit', mean=True)\n",
    "group_df.columns = ['Company','Year','Avg. Profit']\n",
    "sns.set_theme(style='whitegrid')\n",
    "g = sns.catplot(x='Year', y='Avg. Profit', hue='Company', data=group_df, kind='bar')\n",
    "plt.title('Average Profit for Yellow and Pink Companies across 3 Years')\n",
    "g.despine(left=True)\n",
    "g.set_axis_labels('','Avg. Profit')\n",
    "g.legend.set_title('')"
   ]
  },
  {
   "cell_type": "markdown",
   "metadata": {},
   "source": [
    "__We can see that the average profits made by the Yellow company is almost double that of the Pink comapny in all 3 years. This, however, negates our first hypothesis (Price has increased over the years)__"
   ]
  },
  {
   "cell_type": "code",
   "execution_count": null,
   "metadata": {},
   "outputs": [],
   "source": [
    "check = df.groupby(['company','month']).profit.count()\n",
    "check"
   ]
  },
  {
   "cell_type": "code",
   "execution_count": null,
   "metadata": {},
   "outputs": [],
   "source": [
    "months = ['January','February','March','April','May','June','July','August','September','October','November','December']\n",
    "ylist = []\n",
    "plist = []\n",
    "for month in months:\n",
    "    ylist.append(check.loc[('Yellow Cab', month)])\n",
    "    plist.append(check.loc['Pink Cab', month])"
   ]
  },
  {
   "cell_type": "code",
   "execution_count": null,
   "metadata": {},
   "outputs": [],
   "source": [
    "month_df = pd.DataFrame([months,plist,ylist])\n",
    "month_df = month_df.T\n",
    "month_df.columns = ['months','pink','yellow']\n",
    "convert_dict = {'pink': int, 'yellow': int}\n",
    "month_df = month_df.astype(convert_dict)\n",
    "month_df.yellow.dtype\n",
    "sns.lineplot(data=month_df, x='months', y='pink')\n",
    "sns.lineplot(data=month_df, x='months', y='yellow')\n",
    "plt.xlabel('Months')\n",
    "plt.ylabel('Number of Rides')\n",
    "plt.legend(['Pink Cab','Yellow Cab'])\n",
    "plt.xticks(rotation=45)\n",
    "plt.title('Number of Rides Each Month over 3 Years')\n",
    "plt.show()"
   ]
  },
  {
   "source": [
    "__We can see from the line plot that the sales of both the companies follow a similar pattern, with the yellow company having a much higher number.__\n",
    "\n",
    "## Less in Jan coz of gyms and new years resolutions, etc.\n",
    "\n",
    "__We will next analyze income and ride patterns seen in the data. For this analysis, it is assumed that that an income of greater than or equal to $8000/month is considered as high income.__"
   ],
   "cell_type": "markdown",
   "metadata": {}
  },
  {
   "cell_type": "code",
   "execution_count": null,
   "metadata": {},
   "outputs": [],
   "source": [
    "df.head()"
   ]
  },
  {
   "cell_type": "code",
   "execution_count": null,
   "metadata": {},
   "outputs": [],
   "source": [
    "df['income_level'] = df.monthly_income.apply(lambda x: 1 if x >= 12000 else 0)\n",
    "df.income_level.value_counts()"
   ]
  },
  {
   "cell_type": "code",
   "execution_count": null,
   "metadata": {},
   "outputs": [],
   "source": [
    "df.groupby('income_level').pay_mode.value_counts()"
   ]
  },
  {
   "cell_type": "code",
   "execution_count": null,
   "metadata": {},
   "outputs": [],
   "source": [
    "table = pd.pivot_table(df, values=['cost','price','profit'], index=['company','city'], aggfunc=np.mean)"
   ]
  },
  {
   "cell_type": "code",
   "execution_count": null,
   "metadata": {},
   "outputs": [],
   "source": [
    "# table = table.sort_values(table.index.name, ascending=False)\n",
    "table"
   ]
  },
  {
   "cell_type": "code",
   "execution_count": null,
   "metadata": {},
   "outputs": [],
   "source": [
    "def line_plot(data, x, y, hue):\n",
    "    f, ax = plt.subplots(figsize=(10,5))\n",
    "    g = sns.lineplot(data=data, x=x, y=y, hue=hue)\n",
    "    y = y[0].upper() + y[1:]\n",
    "    plt.title('Average {} of Each Ride in Different Cities'.format(y))\n",
    "    plt.ylabel(y+' ($)')\n",
    "    ax.legend().set_title('')\n",
    "    plt.xticks(rotation=90)"
   ]
  },
  {
   "cell_type": "code",
   "execution_count": null,
   "metadata": {},
   "outputs": [],
   "source": [
    "metrics = ['cost','price','profit']\n",
    "sns.set_theme(style='white')\n",
    "for metric in metrics:\n",
    "    line_plot(table, 'city', metric, 'company')\n",
    "    plt.xlabel('City')"
   ]
  },
  {
   "cell_type": "code",
   "execution_count": null,
   "metadata": {},
   "outputs": [],
   "source": [
    "no_holiday_df = df[df.Holiday.isnull()]\n",
    "holiday_df = df[~df.Holiday.isnull()]\n",
    "hol_grp = holiday_df.groupby('company').profit.mean()\n",
    "no_hol_grp = no_holiday_df.groupby('company').profit.mean()\n",
    "hol_grp"
   ]
  },
  {
   "cell_type": "code",
   "execution_count": null,
   "metadata": {},
   "outputs": [],
   "source": [
    "no_hol_grp"
   ]
  },
  {
   "source": [
    "__ As we can observe from the above results, the average profit is higher on holidays than non-holidays for the Pink company and vice versa for the yellow company.__"
   ],
   "cell_type": "markdown",
   "metadata": {}
  },
  {
   "source": [
    "work_df = df[(df.age < 40) & (df.age > 22)]\n",
    "no_work_df = df[(df.age >= 40) | (df.age <= 22)]\n",
    "work_df.count()"
   ],
   "cell_type": "code",
   "metadata": {},
   "execution_count": null,
   "outputs": []
  },
  {
   "cell_type": "code",
   "execution_count": null,
   "metadata": {},
   "outputs": [],
   "source": [
    "no_work_df.count()"
   ]
  },
  {
   "cell_type": "code",
   "execution_count": null,
   "metadata": {},
   "outputs": [],
   "source": [
    "print(len(list(work_df.custID.unique())))\n",
    "print(len(list(no_work_df.custID.unique())))"
   ]
  },
  {
   "cell_type": "code",
   "execution_count": null,
   "metadata": {},
   "outputs": [],
   "source": []
  }
 ],
 "metadata": {
  "interpreter": {
   "hash": "aee8b7b246df8f9039afb4144a1f6fd8d2ca17a180786b69acc140d282b71a49"
  },
  "kernelspec": {
   "name": "python3",
   "display_name": "Python 3.9.5 64-bit"
  },
  "language_info": {
   "codemirror_mode": {
    "name": "ipython",
    "version": 3
   },
   "file_extension": ".py",
   "mimetype": "text/x-python",
   "name": "python",
   "nbconvert_exporter": "python",
   "pygments_lexer": "ipython3",
   "version": "3.9.5"
  }
 },
 "nbformat": 4,
 "nbformat_minor": 2
}