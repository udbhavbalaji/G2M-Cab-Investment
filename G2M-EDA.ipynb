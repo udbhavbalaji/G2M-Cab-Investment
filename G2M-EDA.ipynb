{
 "metadata": {
  "language_info": {
   "codemirror_mode": {
    "name": "ipython",
    "version": 3
   },
   "file_extension": ".py",
   "mimetype": "text/x-python",
   "name": "python",
   "nbconvert_exporter": "python",
   "pygments_lexer": "ipython3",
   "version": "3.9.5"
  },
  "orig_nbformat": 4,
  "kernelspec": {
   "name": "python3",
   "display_name": "Python 3.9.5 64-bit"
  },
  "interpreter": {
   "hash": "aee8b7b246df8f9039afb4144a1f6fd8d2ca17a180786b69acc140d282b71a49"
  }
 },
 "nbformat": 4,
 "nbformat_minor": 2,
 "cells": [
  {
   "source": [
    "# Exploratory Data Analysis   \n",
    "__The following exploration is done to analyze which of the 2 cab companies, Yellow Company or Pink Company, is the better choice to invest in.__     \n",
    "\n",
    "The following features are present in the dataset:    \n",
    "1. txnID (Transaction ID): Unique id assigned to each of the rides that were done by either of the companies     \n",
    "2. custID (Customer ID): Unique id assigned to each customer. Note that values in this field can be repeated as the same customer could have taken multiple rides with both the companies   \n",
    "3. date (Date of Ride): The day of each month that the ride took place on   \n",
    "4. month (Month of Ride): The month in which the ride took place   \n",
    "5. year (Year of Ride): The year in which the ride took place    \n",
    "6. day_name (Day Name): Name of the day on which the ride took place    \n",
    "7. distance (Distance): The length/distance of each ride   \n",
    "8. city (City): City in which the ride took place   \n",
    "9. state (State): State of the city in which the ride took place    \n",
    "10. cost (Cost): Cost incurred by each company for each ride   \n",
    "11. price (Price): Price charged by each company for each ride  \n",
    "12. profit (Profit): Profit earned by the company on each ride (Price-Cost)   \n",
    "13. population (Population): Population of the city in which the ride took place   \n",
    "14. user (User): Number of cab users that the city has    \n",
    "15. pay_mode (Mode of Payment): The mode of payment that the customer used to pay for the ride   \n",
    "16. gender (Gender): The gender of the customer    \n",
    "17. age (Age): Age of the customer   \n",
    "18. monthly_income (Monthly Income): Monthly income of the customer in US Dollars     19.\n",
    "19. company (Company): Which company undertook the ride   \n",
    "20. Holiday (Holiday): The name of the holiday on the date of the ride    "
   ],
   "cell_type": "markdown",
   "metadata": {}
  },
  {
   "cell_type": "code",
   "execution_count": 1,
   "metadata": {},
   "outputs": [],
   "source": [
    "import pandas as pd\n",
    "import numpy as np\n",
    "import matplotlib.pyplot as plt\n",
    "import seaborn as sns\n",
    "\n",
    "%matplotlib inline"
   ]
  },
  {
   "cell_type": "code",
   "execution_count": 3,
   "metadata": {},
   "outputs": [
    {
     "output_type": "execute_result",
     "data": {
      "text/plain": [
       "      txnID  custID  date    month  year   day_name  distance     city state  \\\n",
       "0  10000011   29290     7  January  2016   Thursday     30.45  ATLANTA    GA   \n",
       "1  10000012   27703     5  January  2016    Tuesday     28.62  ATLANTA    GA   \n",
       "2  10000013   28712     1  January  2016     Friday      9.04  ATLANTA    GA   \n",
       "3  10000014   28020     6  January  2016  Wednesday     33.17  ATLANTA    GA   \n",
       "4  10000015   27182     2  January  2016   Saturday      8.73  ATLANTA    GA   \n",
       "\n",
       "      cost   price  profit  population   user pay_mode gender  age  \\\n",
       "0  313.635  370.95  57.315      814885  24701     Card   Male   28   \n",
       "1  334.854  358.52  23.666      814885  24701     Card   Male   27   \n",
       "2   97.632  125.20  27.568      814885  24701     Cash   Male   53   \n",
       "3  351.602  377.40  25.798      814885  24701     Cash   Male   23   \n",
       "4   97.776  114.62  16.844      814885  24701     Card   Male   33   \n",
       "\n",
       "   monthly_income   company         Holiday  \n",
       "0           10813  Pink Cab             NaN  \n",
       "1            9237  Pink Cab             NaN  \n",
       "2           11242  Pink Cab  New Year's Day  \n",
       "3           23327  Pink Cab             NaN  \n",
       "4            8536  Pink Cab             NaN  "
      ],
      "text/html": "<div>\n<style scoped>\n    .dataframe tbody tr th:only-of-type {\n        vertical-align: middle;\n    }\n\n    .dataframe tbody tr th {\n        vertical-align: top;\n    }\n\n    .dataframe thead th {\n        text-align: right;\n    }\n</style>\n<table border=\"1\" class=\"dataframe\">\n  <thead>\n    <tr style=\"text-align: right;\">\n      <th></th>\n      <th>txnID</th>\n      <th>custID</th>\n      <th>date</th>\n      <th>month</th>\n      <th>year</th>\n      <th>day_name</th>\n      <th>distance</th>\n      <th>city</th>\n      <th>state</th>\n      <th>cost</th>\n      <th>price</th>\n      <th>profit</th>\n      <th>population</th>\n      <th>user</th>\n      <th>pay_mode</th>\n      <th>gender</th>\n      <th>age</th>\n      <th>monthly_income</th>\n      <th>company</th>\n      <th>Holiday</th>\n    </tr>\n  </thead>\n  <tbody>\n    <tr>\n      <th>0</th>\n      <td>10000011</td>\n      <td>29290</td>\n      <td>7</td>\n      <td>January</td>\n      <td>2016</td>\n      <td>Thursday</td>\n      <td>30.45</td>\n      <td>ATLANTA</td>\n      <td>GA</td>\n      <td>313.635</td>\n      <td>370.95</td>\n      <td>57.315</td>\n      <td>814885</td>\n      <td>24701</td>\n      <td>Card</td>\n      <td>Male</td>\n      <td>28</td>\n      <td>10813</td>\n      <td>Pink Cab</td>\n      <td>NaN</td>\n    </tr>\n    <tr>\n      <th>1</th>\n      <td>10000012</td>\n      <td>27703</td>\n      <td>5</td>\n      <td>January</td>\n      <td>2016</td>\n      <td>Tuesday</td>\n      <td>28.62</td>\n      <td>ATLANTA</td>\n      <td>GA</td>\n      <td>334.854</td>\n      <td>358.52</td>\n      <td>23.666</td>\n      <td>814885</td>\n      <td>24701</td>\n      <td>Card</td>\n      <td>Male</td>\n      <td>27</td>\n      <td>9237</td>\n      <td>Pink Cab</td>\n      <td>NaN</td>\n    </tr>\n    <tr>\n      <th>2</th>\n      <td>10000013</td>\n      <td>28712</td>\n      <td>1</td>\n      <td>January</td>\n      <td>2016</td>\n      <td>Friday</td>\n      <td>9.04</td>\n      <td>ATLANTA</td>\n      <td>GA</td>\n      <td>97.632</td>\n      <td>125.20</td>\n      <td>27.568</td>\n      <td>814885</td>\n      <td>24701</td>\n      <td>Cash</td>\n      <td>Male</td>\n      <td>53</td>\n      <td>11242</td>\n      <td>Pink Cab</td>\n      <td>New Year's Day</td>\n    </tr>\n    <tr>\n      <th>3</th>\n      <td>10000014</td>\n      <td>28020</td>\n      <td>6</td>\n      <td>January</td>\n      <td>2016</td>\n      <td>Wednesday</td>\n      <td>33.17</td>\n      <td>ATLANTA</td>\n      <td>GA</td>\n      <td>351.602</td>\n      <td>377.40</td>\n      <td>25.798</td>\n      <td>814885</td>\n      <td>24701</td>\n      <td>Cash</td>\n      <td>Male</td>\n      <td>23</td>\n      <td>23327</td>\n      <td>Pink Cab</td>\n      <td>NaN</td>\n    </tr>\n    <tr>\n      <th>4</th>\n      <td>10000015</td>\n      <td>27182</td>\n      <td>2</td>\n      <td>January</td>\n      <td>2016</td>\n      <td>Saturday</td>\n      <td>8.73</td>\n      <td>ATLANTA</td>\n      <td>GA</td>\n      <td>97.776</td>\n      <td>114.62</td>\n      <td>16.844</td>\n      <td>814885</td>\n      <td>24701</td>\n      <td>Card</td>\n      <td>Male</td>\n      <td>33</td>\n      <td>8536</td>\n      <td>Pink Cab</td>\n      <td>NaN</td>\n    </tr>\n  </tbody>\n</table>\n</div>"
     },
     "metadata": {},
     "execution_count": 3
    }
   ],
   "source": [
    "df = pd.read_csv('Datasets/Master_Data.csv')\n",
    "df.head()"
   ]
  },
  {
   "cell_type": "code",
   "execution_count": 5,
   "metadata": {},
   "outputs": [
    {
     "output_type": "execute_result",
     "data": {
      "text/plain": [
       "              custID           date           year       distance  \\\n",
       "count  359392.000000  359392.000000  359392.000000  359392.000000   \n",
       "mean    23889.276623      15.608133    2017.045199      22.567254   \n",
       "std     21220.895588       8.825601       0.800239      12.233526   \n",
       "min         1.000000       1.000000    2016.000000       1.900000   \n",
       "25%      3674.000000       8.000000    2016.000000      12.000000   \n",
       "50%     17080.000000      16.000000    2017.000000      22.440000   \n",
       "75%     43945.000000      23.000000    2018.000000      32.960000   \n",
       "max     60000.000000      31.000000    2018.000000      48.000000   \n",
       "\n",
       "                cost          price         profit    population  \\\n",
       "count  359392.000000  359392.000000  359392.000000  3.593920e+05   \n",
       "mean      286.190113     423.443311     137.253198  3.132198e+06   \n",
       "std       157.993661     274.378911     160.311840  3.315194e+06   \n",
       "min        19.000000      15.600000    -220.060000  2.489680e+05   \n",
       "25%       151.200000     206.437500      28.012000  6.712380e+05   \n",
       "50%       282.480000     386.360000      81.962000  1.595037e+06   \n",
       "75%       413.683200     583.660000     190.030000  8.405837e+06   \n",
       "max       691.200000    2048.030000    1463.966000  8.405837e+06   \n",
       "\n",
       "                user            age  monthly_income  \n",
       "count  359392.000000  359392.000000   359392.000000  \n",
       "mean   158365.582267      35.362109    15091.469465  \n",
       "std    100850.051020      12.589699     7988.860168  \n",
       "min      3643.000000      18.000000     2000.000000  \n",
       "25%     80021.000000      25.000000     8387.000000  \n",
       "50%    144132.000000      33.000000    14763.500000  \n",
       "75%    302149.000000      42.000000    21085.000000  \n",
       "max    302149.000000      65.000000    35000.000000  "
      ],
      "text/html": "<div>\n<style scoped>\n    .dataframe tbody tr th:only-of-type {\n        vertical-align: middle;\n    }\n\n    .dataframe tbody tr th {\n        vertical-align: top;\n    }\n\n    .dataframe thead th {\n        text-align: right;\n    }\n</style>\n<table border=\"1\" class=\"dataframe\">\n  <thead>\n    <tr style=\"text-align: right;\">\n      <th></th>\n      <th>custID</th>\n      <th>date</th>\n      <th>year</th>\n      <th>distance</th>\n      <th>cost</th>\n      <th>price</th>\n      <th>profit</th>\n      <th>population</th>\n      <th>user</th>\n      <th>age</th>\n      <th>monthly_income</th>\n    </tr>\n  </thead>\n  <tbody>\n    <tr>\n      <th>count</th>\n      <td>359392.000000</td>\n      <td>359392.000000</td>\n      <td>359392.000000</td>\n      <td>359392.000000</td>\n      <td>359392.000000</td>\n      <td>359392.000000</td>\n      <td>359392.000000</td>\n      <td>3.593920e+05</td>\n      <td>359392.000000</td>\n      <td>359392.000000</td>\n      <td>359392.000000</td>\n    </tr>\n    <tr>\n      <th>mean</th>\n      <td>23889.276623</td>\n      <td>15.608133</td>\n      <td>2017.045199</td>\n      <td>22.567254</td>\n      <td>286.190113</td>\n      <td>423.443311</td>\n      <td>137.253198</td>\n      <td>3.132198e+06</td>\n      <td>158365.582267</td>\n      <td>35.362109</td>\n      <td>15091.469465</td>\n    </tr>\n    <tr>\n      <th>std</th>\n      <td>21220.895588</td>\n      <td>8.825601</td>\n      <td>0.800239</td>\n      <td>12.233526</td>\n      <td>157.993661</td>\n      <td>274.378911</td>\n      <td>160.311840</td>\n      <td>3.315194e+06</td>\n      <td>100850.051020</td>\n      <td>12.589699</td>\n      <td>7988.860168</td>\n    </tr>\n    <tr>\n      <th>min</th>\n      <td>1.000000</td>\n      <td>1.000000</td>\n      <td>2016.000000</td>\n      <td>1.900000</td>\n      <td>19.000000</td>\n      <td>15.600000</td>\n      <td>-220.060000</td>\n      <td>2.489680e+05</td>\n      <td>3643.000000</td>\n      <td>18.000000</td>\n      <td>2000.000000</td>\n    </tr>\n    <tr>\n      <th>25%</th>\n      <td>3674.000000</td>\n      <td>8.000000</td>\n      <td>2016.000000</td>\n      <td>12.000000</td>\n      <td>151.200000</td>\n      <td>206.437500</td>\n      <td>28.012000</td>\n      <td>6.712380e+05</td>\n      <td>80021.000000</td>\n      <td>25.000000</td>\n      <td>8387.000000</td>\n    </tr>\n    <tr>\n      <th>50%</th>\n      <td>17080.000000</td>\n      <td>16.000000</td>\n      <td>2017.000000</td>\n      <td>22.440000</td>\n      <td>282.480000</td>\n      <td>386.360000</td>\n      <td>81.962000</td>\n      <td>1.595037e+06</td>\n      <td>144132.000000</td>\n      <td>33.000000</td>\n      <td>14763.500000</td>\n    </tr>\n    <tr>\n      <th>75%</th>\n      <td>43945.000000</td>\n      <td>23.000000</td>\n      <td>2018.000000</td>\n      <td>32.960000</td>\n      <td>413.683200</td>\n      <td>583.660000</td>\n      <td>190.030000</td>\n      <td>8.405837e+06</td>\n      <td>302149.000000</td>\n      <td>42.000000</td>\n      <td>21085.000000</td>\n    </tr>\n    <tr>\n      <th>max</th>\n      <td>60000.000000</td>\n      <td>31.000000</td>\n      <td>2018.000000</td>\n      <td>48.000000</td>\n      <td>691.200000</td>\n      <td>2048.030000</td>\n      <td>1463.966000</td>\n      <td>8.405837e+06</td>\n      <td>302149.000000</td>\n      <td>65.000000</td>\n      <td>35000.000000</td>\n    </tr>\n  </tbody>\n</table>\n</div>"
     },
     "metadata": {},
     "execution_count": 5
    }
   ],
   "source": [
    "df = df.set_index('txnID')\n",
    "df.describe()"
   ]
  },
  {
   "cell_type": "code",
   "execution_count": 6,
   "metadata": {},
   "outputs": [
    {
     "output_type": "stream",
     "name": "stdout",
     "text": [
      "<class 'pandas.core.frame.DataFrame'>\nInt64Index: 359392 entries, 10000011 to 10440107\nData columns (total 19 columns):\n #   Column          Non-Null Count   Dtype  \n---  ------          --------------   -----  \n 0   custID          359392 non-null  int64  \n 1   date            359392 non-null  int64  \n 2   month           359392 non-null  object \n 3   year            359392 non-null  int64  \n 4   day_name        359392 non-null  object \n 5   distance        359392 non-null  float64\n 6   city            359392 non-null  object \n 7   state           359392 non-null  object \n 8   cost            359392 non-null  float64\n 9   price           359392 non-null  float64\n 10  profit          359392 non-null  float64\n 11  population      359392 non-null  int64  \n 12  user            359392 non-null  int64  \n 13  pay_mode        359392 non-null  object \n 14  gender          359392 non-null  object \n 15  age             359392 non-null  int64  \n 16  monthly_income  359392 non-null  int64  \n 17  company         359392 non-null  object \n 18  Holiday         10906 non-null   object \ndtypes: float64(4), int64(7), object(8)\nmemory usage: 62.9+ MB\n"
     ]
    }
   ],
   "source": [
    "df.info()"
   ]
  },
  {
   "source": [
    "Here, we see that the Holiday feature has only 10906 not-null rows. While this might seem to be bad, it is useful information as it shows us that the ride took place on a day that wasn't a Federal US Holiday."
   ],
   "cell_type": "markdown",
   "metadata": {}
  },
  {
   "source": [
    "### Hypotheses:   \n",
    "1. Price has increased over the years   \n",
    "2. Places with a higher population have higher prices and costs   \n",
    "3. Profitability increases with larger duration    \n",
    "4. Profit increases on Holidays    \n",
    "5. People with higher income travel longer distances   \n",
    "6. People in this age group travel more (22-40), due to absence of private modes of transport  "
   ],
   "cell_type": "markdown",
   "metadata": {}
  },
  {
   "cell_type": "code",
   "execution_count": null,
   "metadata": {},
   "outputs": [],
   "source": []
  }
 ]
}